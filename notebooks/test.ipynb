{
 "cells": [
  {
   "cell_type": "code",
   "execution_count": 9,
   "metadata": {
    "collapsed": true
   },
   "outputs": [],
   "source": [
    "import pandas as pd\n",
    "import numpy as np\n",
    "\n",
    "train_df = pd.read_csv('../data/train.csv')\n",
    "valid_df = pd.read_csv('../data/valid.csv')\n",
    "test_df = pd.read_csv('../data/test.csv')"
   ]
  },
  {
   "cell_type": "code",
   "execution_count": 3,
   "outputs": [
    {
     "name": "stdout",
     "output_type": "stream",
     "text": [
      "<class 'pandas.core.frame.DataFrame'>\n",
      "RangeIndex: 207 entries, 0 to 206\n",
      "Data columns (total 15 columns):\n",
      " #   Column      Non-Null Count  Dtype  \n",
      "---  ------      --------------  -----  \n",
      " 0   Unnamed: 0  207 non-null    int64  \n",
      " 1   age         207 non-null    float64\n",
      " 2   sex         207 non-null    float64\n",
      " 3   cp          207 non-null    float64\n",
      " 4   trestbps    207 non-null    float64\n",
      " 5   chol        207 non-null    float64\n",
      " 6   fbs         207 non-null    float64\n",
      " 7   restecg     207 non-null    float64\n",
      " 8   thalach     207 non-null    float64\n",
      " 9   exang       207 non-null    float64\n",
      " 10  oldpeak     207 non-null    float64\n",
      " 11  slope       207 non-null    float64\n",
      " 12  ca          207 non-null    float64\n",
      " 13  thal        207 non-null    float64\n",
      " 14  num         207 non-null    int64  \n",
      "dtypes: float64(13), int64(2)\n",
      "memory usage: 24.4 KB\n"
     ]
    }
   ],
   "source": [
    "train_df.info()"
   ],
   "metadata": {
    "collapsed": false,
    "pycharm": {
     "name": "#%%\n"
    }
   }
  },
  {
   "cell_type": "code",
   "execution_count": 10,
   "outputs": [
    {
     "name": "stdout",
     "output_type": "stream",
     "text": [
      "Decision tree Cross-Validation scores:\n",
      "[0.71428571 0.57142857 0.61904762 0.52380952 0.33333333 0.52380952\n",
      " 0.52380952 0.2        0.35       0.35      ]\n",
      "Mean Decision tree Cross-Validation score =  0.4709523809523809\n",
      "Decision tree Cross-Validation scores:\n",
      "[0.71428571 0.61904762 0.57142857 0.28571429 0.42857143 0.42857143\n",
      " 0.61904762 0.5        0.55       0.55      ]\n",
      "Mean Decision tree Cross-Validation score =  0.5266666666666666\n",
      "The best parameters for model are  entropy\n",
      "The Cross-Validation score =  0.5266666666666666\n"
     ]
    }
   ],
   "source": [
    "from sklearn import tree\n",
    "from sklearn import model_selection\n",
    "\n",
    "# build Decision tree model\n",
    "best_score_dt = 0\n",
    "\n",
    "criterion = ['gini', 'entropy']\n",
    "\n",
    "for c in criterion:\n",
    "\n",
    "            clf = tree.DecisionTreeClassifier(criterion=c)\n",
    "\n",
    "            clf.fit(train_df.iloc[:, :13].to_numpy(), train_df.iloc[:, 14].to_numpy())\n",
    "            print(\"Decision tree Cross-Validation scores:\")\n",
    "            scores = model_selection.cross_val_score(clf, train_df.iloc[:, :13].to_numpy(), train_df.iloc[:, 14].to_numpy(), cv=10)\n",
    "            print(scores)\n",
    "            print(\"Mean Decision tree Cross-Validation score = \", np.mean(scores))\n",
    "\n",
    "            if np.mean(scores) > best_score_dt:\n",
    "                best_score_dt = np.mean(scores)\n",
    "                best_param_dt = c\n",
    "\n",
    "\n",
    "print(\"The best parameters for model are \", best_param_dt)\n",
    "print(\"The Cross-Validation score = \", best_score_dt)\n"
   ],
   "metadata": {
    "collapsed": false,
    "pycharm": {
     "name": "#%%\n"
    }
   }
  }
 ],
 "metadata": {
  "kernelspec": {
   "name": "python3",
   "language": "python",
   "display_name": "Python 3"
  },
  "language_info": {
   "codemirror_mode": {
    "name": "ipython",
    "version": 2
   },
   "file_extension": ".py",
   "mimetype": "text/x-python",
   "name": "python",
   "nbconvert_exporter": "python",
   "pygments_lexer": "ipython2",
   "version": "2.7.6"
  }
 },
 "nbformat": 4,
 "nbformat_minor": 0
}