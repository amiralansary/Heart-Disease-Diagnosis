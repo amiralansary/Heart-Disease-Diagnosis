{
 "cells": [
  {
   "cell_type": "markdown",
   "source": [
    "Test conventional Machine Learning Methods"
   ],
   "metadata": {
    "collapsed": false,
    "pycharm": {
     "name": "#%% md\n"
    }
   }
  },
  {
   "cell_type": "code",
   "execution_count": 1,
   "metadata": {
    "collapsed": true
   },
   "outputs": [
    {
     "name": "stdout",
     "output_type": "stream",
     "text": [
      "<class 'pandas.core.frame.DataFrame'>\n",
      "RangeIndex: 207 entries, 0 to 206\n",
      "Data columns (total 15 columns):\n",
      " #   Column      Non-Null Count  Dtype  \n",
      "---  ------      --------------  -----  \n",
      " 0   Unnamed: 0  207 non-null    int64  \n",
      " 1   age         207 non-null    float64\n",
      " 2   sex         207 non-null    float64\n",
      " 3   cp          207 non-null    float64\n",
      " 4   trestbps    207 non-null    float64\n",
      " 5   chol        207 non-null    float64\n",
      " 6   fbs         207 non-null    float64\n",
      " 7   restecg     207 non-null    float64\n",
      " 8   thalach     207 non-null    float64\n",
      " 9   exang       207 non-null    float64\n",
      " 10  oldpeak     207 non-null    float64\n",
      " 11  slope       207 non-null    float64\n",
      " 12  ca          207 non-null    float64\n",
      " 13  thal        207 non-null    float64\n",
      " 14  num         207 non-null    int64  \n",
      "dtypes: float64(13), int64(2)\n",
      "memory usage: 24.4 KB\n"
     ]
    }
   ],
   "source": [
    "import pandas as pd\n",
    "import numpy as np\n",
    "\n",
    "RANDOM_SEED = 42\n",
    "\n",
    "np.set_printoptions(formatter={'float': lambda x: \"{0:0.2f}\".format(x)})\n",
    "\n",
    "train_df = pd.read_csv('../data/train.csv')\n",
    "valid_df = pd.read_csv('../data/valid.csv')\n",
    "test_df = pd.read_csv('../data/test.csv')\n",
    "\n",
    "train_df.info()"
   ]
  },
  {
   "cell_type": "markdown",
   "source": [
    "Decision Trees"
   ],
   "metadata": {
    "collapsed": false
   }
  },
  {
   "cell_type": "code",
   "execution_count": 2,
   "outputs": [],
   "source": [
    "from sklearn import tree\n",
    "\n",
    "# criterion 'entropy' and max_depth=3 give the best results\n",
    "clf = tree.DecisionTreeClassifier(criterion='entropy', max_depth=3, random_state=RANDOM_SEED)\n",
    "clf.fit(train_df.iloc[:, :13].to_numpy(), train_df.iloc[:, 14].to_numpy())\n",
    "\n",
    "train_score = clf.score(train_df.iloc[:, :13].to_numpy(), train_df.iloc[:, 14].to_numpy())\n",
    "valid_score = clf.score(valid_df.iloc[:, :13].to_numpy(), valid_df.iloc[:, 14].to_numpy())\n",
    "test_score = clf.score(test_df.iloc[:, :13].to_numpy(), test_df.iloc[:, 14].to_numpy())"
   ],
   "metadata": {
    "collapsed": false,
    "pycharm": {
     "name": "#%%\n"
    }
   }
  },
  {
   "cell_type": "code",
   "execution_count": 3,
   "outputs": [
    {
     "name": "stdout",
     "output_type": "stream",
     "text": [
      "3\n",
      "[0.00 0.08 0.00 0.39 0.00 0.08 0.00 0.00 0.00 0.00 0.30 0.06 0.09]\n",
      "0.6666666666666666\n",
      "0.4666666666666667\n",
      "0.5333333333333333\n"
     ]
    }
   ],
   "source": [
    "print(clf.get_depth())\n",
    "\n",
    "print(clf.feature_importances_)\n",
    "\n",
    "print(train_score)\n",
    "print(valid_score)\n",
    "print(test_score)"
   ],
   "metadata": {
    "collapsed": false,
    "pycharm": {
     "name": "#%%\n"
    }
   }
  },
  {
   "cell_type": "markdown",
   "source": [
    "Random Forests"
   ],
   "metadata": {
    "collapsed": false
   }
  },
  {
   "cell_type": "code",
   "execution_count": 4,
   "outputs": [
    {
     "name": "stdout",
     "output_type": "stream",
     "text": [
      "[0.07 0.09 0.03 0.15 0.08 0.10 0.02 0.02 0.12 0.04 0.14 0.04 0.11]\n",
      "0.8985507246376812\n",
      "0.5555555555555556\n",
      "0.6\n"
     ]
    }
   ],
   "source": [
    "from sklearn import ensemble\n",
    "\n",
    "clf = ensemble.RandomForestClassifier(criterion='entropy', max_depth=5, random_state=RANDOM_SEED)\n",
    "clf.fit(train_df.iloc[:, :13].to_numpy(), train_df.iloc[:, 14].to_numpy())\n",
    "\n",
    "train_score = clf.score(train_df.iloc[:, :13].to_numpy(), train_df.iloc[:, 14].to_numpy())\n",
    "valid_score = clf.score(valid_df.iloc[:, :13].to_numpy(), valid_df.iloc[:, 14].to_numpy())\n",
    "test_score = clf.score(test_df.iloc[:, :13].to_numpy(), test_df.iloc[:, 14].to_numpy())\n",
    "\n",
    "print(clf.feature_importances_)\n",
    "\n",
    "print(train_score)\n",
    "print(valid_score)\n",
    "print(test_score)\n"
   ],
   "metadata": {
    "collapsed": false,
    "pycharm": {
     "name": "#%%\n"
    }
   }
  },
  {
   "cell_type": "markdown",
   "source": [
    "AdaBoost Classifier"
   ],
   "metadata": {
    "collapsed": false
   }
  },
  {
   "cell_type": "code",
   "execution_count": 5,
   "outputs": [
    {
     "name": "stdout",
     "output_type": "stream",
     "text": [
      "[0.00 0.00 0.00 0.44 0.00 0.00 0.00 0.00 0.04 0.00 0.32 0.00 0.20]\n",
      "0.6280193236714976\n",
      "0.5333333333333333\n",
      "0.6\n"
     ]
    }
   ],
   "source": [
    "clf = ensemble.AdaBoostClassifier(learning_rate=0.03, random_state=RANDOM_SEED)\n",
    "clf.fit(train_df.iloc[:, :13].to_numpy(), train_df.iloc[:, 14].to_numpy())\n",
    "\n",
    "train_score = clf.score(train_df.iloc[:, :13].to_numpy(), train_df.iloc[:, 14].to_numpy())\n",
    "valid_score = clf.score(valid_df.iloc[:, :13].to_numpy(), valid_df.iloc[:, 14].to_numpy())\n",
    "test_score = clf.score(test_df.iloc[:, :13].to_numpy(), test_df.iloc[:, 14].to_numpy())\n",
    "\n",
    "print(clf.feature_importances_)\n",
    "\n",
    "print(train_score)\n",
    "print(valid_score)\n",
    "print(test_score)"
   ],
   "metadata": {
    "collapsed": false,
    "pycharm": {
     "name": "#%%\n"
    }
   }
  },
  {
   "cell_type": "markdown",
   "source": [
    "SVM"
   ],
   "metadata": {
    "collapsed": false
   }
  },
  {
   "cell_type": "code",
   "execution_count": 6,
   "outputs": [
    {
     "name": "stdout",
     "output_type": "stream",
     "text": [
      "0.7053140096618358\n",
      "0.5555555555555556\n",
      "0.6222222222222222\n"
     ]
    }
   ],
   "source": [
    "from sklearn import svm\n",
    "\n",
    "clf = svm.SVC(kernel='linear', probability=True, random_state=RANDOM_SEED)\n",
    "clf.fit(train_df.iloc[:, :13].to_numpy(), train_df.iloc[:, 14].to_numpy())\n",
    "\n",
    "train_score = clf.score(train_df.iloc[:, :13].to_numpy(), train_df.iloc[:, 14].to_numpy())\n",
    "valid_score = clf.score(valid_df.iloc[:, :13].to_numpy(), valid_df.iloc[:, 14].to_numpy())\n",
    "test_score = clf.score(test_df.iloc[:, :13].to_numpy(), test_df.iloc[:, 14].to_numpy())\n",
    "\n",
    "print(train_score)\n",
    "print(valid_score)\n",
    "print(test_score)"
   ],
   "metadata": {
    "collapsed": false,
    "pycharm": {
     "name": "#%%\n"
    }
   }
  }
 ],
 "metadata": {
  "kernelspec": {
   "name": "python3",
   "language": "python",
   "display_name": "Python 3"
  },
  "language_info": {
   "codemirror_mode": {
    "name": "ipython",
    "version": 2
   },
   "file_extension": ".py",
   "mimetype": "text/x-python",
   "name": "python",
   "nbconvert_exporter": "python",
   "pygments_lexer": "ipython2",
   "version": "2.7.6"
  }
 },
 "nbformat": 4,
 "nbformat_minor": 0
}