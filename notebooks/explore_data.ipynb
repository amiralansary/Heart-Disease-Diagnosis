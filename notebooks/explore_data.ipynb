{
 "cells": [
  {
   "cell_type": "markdown",
   "source": [
    "# Heart Disease Database\n",
    "\n",
    "## Heart disease diagnosis\n",
    "\n",
    "* The data was collected from the Cleveland Clinic Foundation (the only one that has been used by ML researchers)\n",
    "* While the databases have $76$ raw attributes (only $14$ of them are actually used)\n",
    "* The \"goal\" field refers to the presence of heart disease in the patient (integer valued from $0$ \"no presence\" to $4$)\n",
    "* Experiments have concentrated on simply attempting to distinguish presence (values $1,2,3,4$) from absence (value $0$)"
   ],
   "metadata": {
    "collapsed": false
   }
  },
  {
   "cell_type": "markdown",
   "source": [
    "## Data Attributes\n",
    "\n",
    "* All attributes are numeric-valued\n",
    "* Number of Instances in Cleveland data set: 303\n",
    "* Number of selected attributes in processed file (only 14 used)\n",
    "* The names and social security numbers of the patients were replaced with dummy values\n",
    "\n",
    "        1. age: in years\n",
    "        2. sex: (1 = male; 0 = female)\n",
    "        3. cp: chest pain location (1 = substernal; 0 = otherwise)\n",
    "        4. trestbps: resting blood pressure (in mm Hg on admission to the hospital)\n",
    "        5. chol: serum cholestoral in mg/dl\n",
    "        6. fbs: fasting blood sugar > 120 mg/dl (1 = true; 0 = false)\n",
    "        7. restecg: resting electrocardiographic results\n",
    "            - Value 0: normal\n",
    "            - Value 1: having ST-T wave abnormality (T wave inversions and/or ST elevation or depression of > 0.05 mV)\n",
    "            - Value 2: showing probable or definite left ventricular hypertrophy by Estes' criteria\n",
    "        8. thalach: maximum heart rate achieved\n",
    "        9. exang: exercise induced angina (1 = yes; 0 = no)\n",
    "        10. oldpeak: ST depression induced by exercise relative to rest\n",
    "        11. slope: the slope of the peak exercise ST segment\n",
    "            - Value 1: upsloping\n",
    "            - Value 2: flat\n",
    "            - Value 3: downsloping\n",
    "        12. ca: number of major vessels (0-3) colored by flourosopy\n",
    "        13. thal: 3 = normal; 6 = fixed defect; 7 = reversable defect\n",
    "        14. num (the predicted attribute): diagnosis of heart disease (angiographic disease status)\n",
    "            - Value 0: < 50% diameter narrowing\n",
    "            - Value 1: > 50% diameter narrowing\n"
   ],
   "metadata": {
    "collapsed": false,
    "pycharm": {
     "name": "#%% md\n"
    }
   }
  },
  {
   "cell_type": "code",
   "execution_count": null,
   "outputs": [],
   "source": [
    "import pandas as pd\n"
   ],
   "metadata": {
    "collapsed": false,
    "pycharm": {
     "name": "#%%\n"
    }
   }
  },
  {
   "cell_type": "code",
   "execution_count": null,
   "metadata": {
    "collapsed": true
   },
   "outputs": [],
   "source": [
    "# Load data file\n",
    "data_file = \"../data/processed.cleveland.data\"\n",
    "colnames = ['age', 'sex', 'cp', 'trestbps', 'chol', 'fbs', 'restecg', 'thalach', 'exang', 'oldpeak', 'slope', 'ca',\n",
    "           'thal', 'num']\n",
    "data_df = pd.read_csv(data_file, sep=',', names=colnames)\n",
    "\n",
    "print(data_df)"
   ]
  },
  {
   "cell_type": "code",
   "execution_count": null,
   "outputs": [],
   "source": [
    "pd.read_csv?\n",
    "\n",
    "\n",
    "\n",
    "\n",
    "\n"
   ],
   "metadata": {
    "collapsed": false,
    "pycharm": {
     "name": "#%%\n"
    }
   }
  }
 ],
 "metadata": {
  "kernelspec": {
   "name": "python3",
   "language": "python",
   "display_name": "Python 3"
  },
  "language_info": {
   "codemirror_mode": {
    "name": "ipython",
    "version": 2
   },
   "file_extension": ".py",
   "mimetype": "text/x-python",
   "name": "python",
   "nbconvert_exporter": "python",
   "pygments_lexer": "ipython2",
   "version": "2.7.6"
  }
 },
 "nbformat": 4,
 "nbformat_minor": 0
}