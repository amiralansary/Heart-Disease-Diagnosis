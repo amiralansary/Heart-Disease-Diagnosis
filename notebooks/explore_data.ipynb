{
 "cells": [
  {
   "cell_type": "markdown",
   "source": [
    "# Heart Disease Database\n",
    "\n",
    "## Heart disease diagnosis\n",
    "\n",
    "* The data was collected from the Cleveland Clinic Foundation (the only one that has been used by ML researchers)\n",
    "* While the databases have $76$ raw attributes (only $14$ of them are actually used)\n",
    "* The \"goal\" field refers to the presence of heart disease in the patient (integer valued from $0$ \"no presence\" to $4$)\n",
    "* Experiments have concentrated on simply attempting to distinguish presence (values $1,2,3,4$) from absence (value $0$)"
   ],
   "metadata": {
    "collapsed": false
   }
  },
  {
   "cell_type": "markdown",
   "source": [
    "## Data Attributes\n",
    "\n",
    "* All attributes are numeric-valued\n",
    "* Number of Instances in Cleveland data set: 303\n",
    "* Number of selected attributes in processed file (only 14 used)\n",
    "* The names and social security numbers of the patients were replaced with dummy values\n",
    "\n",
    "```\n",
    "        1. age: in years\n",
    "        2. sex: (1 = male; 0 = female)\n",
    "        3. cp: chest pain location (1 = substernal; 0 = otherwise)\n",
    "        4. trestbps: resting blood pressure (in mm Hg on admission to the hospital)\n",
    "        5. chol: serum cholestoral in mg/dl\n",
    "        6. fbs: fasting blood sugar > 120 mg/dl (1 = true; 0 = false)\n",
    "        7. restecg: resting electrocardiographic results\n",
    "            - Value 0: normal\n",
    "            - Value 1: having ST-T wave abnormality (T wave inversions and/or ST elevation or depression of > 0.05 mV)\n",
    "            - Value 2: showing probable or definite left ventricular hypertrophy by Estes' criteria\n",
    "        8. thalach: maximum heart rate achieved\n",
    "        9. exang: exercise induced angina (1 = yes; 0 = no)\n",
    "        10. oldpeak: ST depression induced by exercise relative to rest\n",
    "        11. slope: the slope of the peak exercise ST segment\n",
    "            - Value 1: upsloping\n",
    "            - Value 2: flat\n",
    "            - Value 3: downsloping\n",
    "        12. ca: number of major vessels (0-3) colored by flourosopy\n",
    "        13. thal: 3 = normal; 6 = fixed defect; 7 = reversable defect\n",
    "        14. num (the predicted attribute): diagnosis of heart disease (angiographic disease status)\n",
    "            - Value 0: < 50% diameter narrowing\n",
    "            - Value 1: > 50% diameter narrowing\n",
    "```"
   ],
   "metadata": {
    "collapsed": false,
    "pycharm": {
     "name": "#%% md\n"
    }
   }
  },
  {
   "cell_type": "code",
   "execution_count": 15,
   "outputs": [],
   "source": [
    "import pandas as pd\n"
   ],
   "metadata": {
    "collapsed": false,
    "pycharm": {
     "name": "#%%\n"
    }
   }
  },
  {
   "cell_type": "code",
   "execution_count": 16,
   "metadata": {
    "collapsed": true
   },
   "outputs": [
    {
     "name": "stdout",
     "output_type": "stream",
     "text": [
      "      age  sex   cp  trestbps   chol  fbs  restecg  thalach  exang  oldpeak  \\\n",
      "0    63.0  1.0  1.0     145.0  233.0  1.0      2.0    150.0    0.0      2.3   \n",
      "1    67.0  1.0  4.0     160.0  286.0  0.0      2.0    108.0    1.0      1.5   \n",
      "2    67.0  1.0  4.0     120.0  229.0  0.0      2.0    129.0    1.0      2.6   \n",
      "3    37.0  1.0  3.0     130.0  250.0  0.0      0.0    187.0    0.0      3.5   \n",
      "4    41.0  0.0  2.0     130.0  204.0  0.0      2.0    172.0    0.0      1.4   \n",
      "..    ...  ...  ...       ...    ...  ...      ...      ...    ...      ...   \n",
      "298  45.0  1.0  1.0     110.0  264.0  0.0      0.0    132.0    0.0      1.2   \n",
      "299  68.0  1.0  4.0     144.0  193.0  1.0      0.0    141.0    0.0      3.4   \n",
      "300  57.0  1.0  4.0     130.0  131.0  0.0      0.0    115.0    1.0      1.2   \n",
      "301  57.0  0.0  2.0     130.0  236.0  0.0      2.0    174.0    0.0      0.0   \n",
      "302  38.0  1.0  3.0     138.0  175.0  0.0      0.0    173.0    0.0      0.0   \n",
      "\n",
      "     slope   ca thal  num  \n",
      "0      3.0  0.0  6.0    0  \n",
      "1      2.0  3.0  3.0    2  \n",
      "2      2.0  2.0  7.0    1  \n",
      "3      3.0  0.0  3.0    0  \n",
      "4      1.0  0.0  3.0    0  \n",
      "..     ...  ...  ...  ...  \n",
      "298    2.0  0.0  7.0    1  \n",
      "299    2.0  2.0  7.0    2  \n",
      "300    2.0  1.0  7.0    3  \n",
      "301    2.0  1.0  3.0    1  \n",
      "302    1.0    ?  3.0    0  \n",
      "\n",
      "[303 rows x 14 columns]\n"
     ]
    }
   ],
   "source": [
    "# Load data file\n",
    "data_file = \"../data/processed.cleveland.data\"\n",
    "colnames = ['age', 'sex', 'cp', 'trestbps', 'chol', 'fbs', 'restecg', 'thalach', 'exang', 'oldpeak', 'slope', 'ca',\n",
    "           'thal', 'num']\n",
    "data_df = pd.read_csv(data_file, sep=',', names=colnames)\n",
    "\n",
    "print(data_df)"
   ]
  },
  {
   "cell_type": "code",
   "execution_count": 17,
   "outputs": [],
   "source": [
    "pd.read_csv?\n",
    "\n",
    "\n",
    "\n",
    "\n",
    "\n"
   ],
   "metadata": {
    "collapsed": false,
    "pycharm": {
     "name": "#%%\n"
    }
   }
  }
 ],
 "metadata": {
  "kernelspec": {
   "name": "python3",
   "language": "python",
   "display_name": "Python 3"
  },
  "language_info": {
   "codemirror_mode": {
    "name": "ipython",
    "version": 2
   },
   "file_extension": ".py",
   "mimetype": "text/x-python",
   "name": "python",
   "nbconvert_exporter": "python",
   "pygments_lexer": "ipython2",
   "version": "2.7.6"
  }
 },
 "nbformat": 4,
 "nbformat_minor": 0
}